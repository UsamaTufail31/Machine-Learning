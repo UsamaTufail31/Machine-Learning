{
  "nbformat": 4,
  "nbformat_minor": 0,
  "metadata": {
    "colab": {
      "provenance": []
    },
    "kernelspec": {
      "name": "python3",
      "display_name": "Python 3"
    },
    "language_info": {
      "name": "python"
    }
  },
  "cells": [
    {
      "cell_type": "code",
      "source": [
        "# 12 March 2024\n",
        "# CSC354 – Assignment1 – ML – Concept Learning\n",
        "# Usama Tufail\n",
        "# Fa21-BSE-053\n",
        "# python program (preferably an ipython notebook) to implement Candidate-Elimination algorithm. Give the following training examples as input to the program."
      ],
      "metadata": {
        "id": "nOns5N8o9fd3"
      },
      "execution_count": 10,
      "outputs": []
    },
    {
      "cell_type": "code",
      "source": [
        "def is_more_general(hypothesis1, hypothesis2):\n",
        "    more_general_parts = []\n",
        "    for x, y in zip(hypothesis1, hypothesis2):\n",
        "        mg = x == \"?\" or (x != \"0\" and (x == y or y == \"0\"))\n",
        "        more_general_parts.append(mg)\n",
        "    return all(more_general_parts)\n",
        "\n",
        "def fulfills_instance(instance, hypothesis):\n",
        "    return is_more_general(hypothesis, instance)\n",
        "\n",
        "def minimal_generalization(hypothesis, instance):\n",
        "    new_hypothesis = list(hypothesis)\n",
        "    for i in range(len(hypothesis)):\n",
        "        if not fulfills_instance(instance[i:i+1], hypothesis[i:i+1]):\n",
        "            new_hypothesis[i] = '?' if hypothesis[i] != '0' else instance[i]\n",
        "    return [tuple(new_hypothesis)]\n",
        "\n",
        "def minimal_specialization(hypothesis, attribute_domains, instance):\n",
        "    results = []\n",
        "    for i in range(len(hypothesis)):\n",
        "        if hypothesis[i] == \"?\":\n",
        "            for val in attribute_domains[i]:\n",
        "                if instance[i] != val:\n",
        "                    new_hypothesis = hypothesis[:i] + (val,) + hypothesis[i+1:]\n",
        "                    results.append(new_hypothesis)\n",
        "        elif hypothesis[i] != \"0\":\n",
        "            new_hypothesis = hypothesis[:i] + ('0',) + hypothesis[i+1:]\n",
        "            results.append(new_hypothesis)\n",
        "    return results\n",
        "\n",
        "def generate_null_hypothesis(num_attributes):\n",
        "    return (\"?\",) * num_attributes\n",
        "\n",
        "def generate_specific_hypothesis(num_attributes):\n",
        "    return ('0',) * num_attributes\n",
        "\n",
        "def attribute_values(examples):\n",
        "    attribute_domains = []\n",
        "    num_attributes = len(examples[0]) - 1\n",
        "    for i in range(num_attributes):\n",
        "        values = set()\n",
        "        for example in examples:\n",
        "            values.add(example[i])\n",
        "        attribute_domains.append(values)\n",
        "    return attribute_domains\n",
        "\n",
        "def candidate_elimination(examples):\n",
        "    attribute_domains = attribute_values(examples)\n",
        "\n",
        "    general_hypotheses = set([generate_null_hypothesis(len(attribute_domains))])\n",
        "    specific_hypotheses = set([generate_specific_hypothesis(len(attribute_domains))])\n",
        "    i = 0\n",
        "    print(\"\\nInitial General Hypotheses (G[{0}]):\".format(i), general_hypotheses)\n",
        "    print(\"\\nInitial Specific Hypotheses (S[{0}]):\".format(i), specific_hypotheses)\n",
        "\n",
        "    for example in examples:\n",
        "        i += 1\n",
        "        instance, classification = example[:-1], example[-1]\n",
        "        if classification == 'Y':\n",
        "            general_hypotheses = {h for h in general_hypotheses if fulfills_instance(instance, h)}\n",
        "            specific_hypotheses = generalize_specific_hypotheses(instance, general_hypotheses, specific_hypotheses)\n",
        "        else:\n",
        "            specific_hypotheses = {h for h in specific_hypotheses if not fulfills_instance(instance, h)}\n",
        "            general_hypotheses = specialize_general_hypotheses(instance, attribute_domains, general_hypotheses, specific_hypotheses)\n",
        "        print(\"\\nUpdated General Hypotheses (G[{0}]):\".format(i), general_hypotheses)\n",
        "        print(\"\\nUpdated Specific Hypotheses (S[{0}]):\".format(i), specific_hypotheses)\n",
        "    return\n",
        "\n",
        "def generalize_specific_hypotheses(instance, general_hypotheses, specific_hypotheses):\n",
        "    prev_specific_hypotheses = list(specific_hypotheses)\n",
        "    for s in prev_specific_hypotheses:\n",
        "        if s not in specific_hypotheses:\n",
        "            continue\n",
        "        if not fulfills_instance(instance, s):\n",
        "            specific_hypotheses.remove(s)\n",
        "            new_specific_hypotheses = minimal_generalization(s, instance)\n",
        "            specific_hypotheses.update([h for h in new_specific_hypotheses if any([is_more_general(g,h) for g in general_hypotheses])])\n",
        "            specific_hypotheses.difference_update([h for h in specific_hypotheses if any([is_more_general(h, h1) for h1 in specific_hypotheses if h != h1])])\n",
        "    return specific_hypotheses\n",
        "\n",
        "def specialize_general_hypotheses(instance, attribute_domains, general_hypotheses, specific_hypotheses):\n",
        "    prev_general_hypotheses = list(general_hypotheses)\n",
        "    for g in prev_general_hypotheses:\n",
        "        if g not in general_hypotheses:\n",
        "            continue\n",
        "        if fulfills_instance(instance, g):\n",
        "            general_hypotheses.remove(g)\n",
        "            new_general_hypotheses = minimal_specialization(g, attribute_domains, instance)\n",
        "            general_hypotheses.update([h for h in new_general_hypotheses if any([is_more_general(h, s) for s in specific_hypotheses])])\n",
        "            general_hypotheses.difference_update([h for h in general_hypotheses if any([is_more_general(g1, h) for g1 in general_hypotheses if h != g1])])\n",
        "    return general_hypotheses\n",
        "\n",
        "data = [('big', 'red', 'circle', 'N'),\n",
        "        ('small', 'red', 'triangle', 'N'),\n",
        "        ('small', 'red', 'circle', 'Y'),\n",
        "        ('big', 'blue', 'circle', 'N'),\n",
        "        ('small', 'blue', 'circle', 'Y')]\n",
        "candidate_elimination(data)\n"
      ],
      "metadata": {
        "colab": {
          "base_uri": "https://localhost:8080/"
        },
        "id": "61qzJpr47TPu",
        "outputId": "6e92d12e-1b22-49d9-ca8a-020c8d16458d"
      },
      "execution_count": 9,
      "outputs": [
        {
          "output_type": "stream",
          "name": "stdout",
          "text": [
            "\n",
            "Initial General Hypotheses (G[0]): {('?', '?', '?')}\n",
            "\n",
            "Initial Specific Hypotheses (S[0]): {('0', '0', '0')}\n",
            "\n",
            "Updated General Hypotheses (G[1]): {('small', '?', '?'), ('?', '?', 'triangle'), ('?', 'blue', '?')}\n",
            "\n",
            "Updated Specific Hypotheses (S[1]): {('0', '0', '0')}\n",
            "\n",
            "Updated General Hypotheses (G[2]): {('big', '?', 'triangle'), ('?', 'blue', '?'), ('small', '?', 'circle')}\n",
            "\n",
            "Updated Specific Hypotheses (S[2]): {('0', '0', '0')}\n",
            "\n",
            "Updated General Hypotheses (G[3]): {('small', '?', 'circle')}\n",
            "\n",
            "Updated Specific Hypotheses (S[3]): {('small', 'red', 'circle')}\n",
            "\n",
            "Updated General Hypotheses (G[4]): {('small', '?', 'circle')}\n",
            "\n",
            "Updated Specific Hypotheses (S[4]): {('small', 'red', 'circle')}\n",
            "\n",
            "Updated General Hypotheses (G[5]): {('small', '?', 'circle')}\n",
            "\n",
            "Updated Specific Hypotheses (S[5]): {('small', '?', 'circle')}\n"
          ]
        }
      ]
    },
    {
      "cell_type": "code",
      "source": [],
      "metadata": {
        "id": "TPFXdYD09M0C"
      },
      "execution_count": null,
      "outputs": []
    }
  ]
}